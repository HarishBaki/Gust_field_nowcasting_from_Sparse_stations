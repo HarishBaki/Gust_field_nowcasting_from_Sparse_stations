{
 "cells": [
  {
   "cell_type": "code",
   "execution_count": 1,
   "id": "78870e61",
   "metadata": {},
   "outputs": [],
   "source": [
    "from __future__ import print_function\n",
    "import numpy as np\n",
    "import matplotlib.pyplot as plt\n",
    "import datetime as dt\n",
    "import pandas as pd\n",
    "import glob\n",
    "import mmmpy\n",
    "#import cartopy.crs as ccrs\n",
    "#import cartopy.feature as cfeature\n",
    "#from cartopy.io.img_tiles import StamenTerrain\n",
    "#import pygrib\n",
    "import os\n",
    "#import pyart\n",
    "%matplotlib inline"
   ]
  },
  {
   "cell_type": "markdown",
   "id": "1fede769",
   "metadata": {},
   "source": [
    "# Sample download MRMS directly from NCEP"
   ]
  },
  {
   "cell_type": "code",
   "execution_count": null,
   "id": "45e4aaf3",
   "metadata": {},
   "outputs": [],
   "source": [
    "def download_files(input_dt, max_seconds=300):\n",
    "    \"\"\"\n",
    "    This function takes an input datetime object, and will try to match with the closest mosaics in time\n",
    "    that are available at NCEP. Note that NCEP does not archive much beyond 24 hours of data.\n",
    "    \n",
    "    Parameters\n",
    "    ----------\n",
    "    input_dt : datetime.datetime object\n",
    "        input datetime object, will try to find closest file in time on NCEP server\n",
    "    \n",
    "    Other Parameters\n",
    "    ----------------\n",
    "    max_seconds : int or float\n",
    "        Maximum number of seconds difference tolerated between input and selected datetimes,\n",
    "        before file matching will fail\n",
    "    \n",
    "    Returns\n",
    "    -------\n",
    "    files : 1-D ndarray of strings\n",
    "        Array of mosaic file names, ready for ingest into MMM-Py\n",
    "    \"\"\"\n",
    "    baseurl = 'http://mrms.ncep.noaa.gov/data/3DReflPlus/'\n",
    "    page1 = pd.read_html(baseurl)\n",
    "    directories = np.array(page1[0][0][3:-1])  # May need to change indices depending on pandas version\n",
    "    urllist = []\n",
    "    files = []\n",
    "    for i, d in enumerate(directories):\n",
    "        print(baseurl + d)\n",
    "        page2 = pd.read_html(baseurl + d)\n",
    "        filelist = np.array(page2[0][0][3:-1])  # May need to change indices depending on pandas version\n",
    "        dts = []\n",
    "        for filen in filelist:\n",
    "            # Will need to change in event of a name change\n",
    "            dts.append(dt.datetime.strptime(filen[32:47], '%Y%m%d-%H%M%S'))\n",
    "        dts = np.array(dts)\n",
    "        diff = np.abs((dts - input_dt))\n",
    "        if np.min(diff).total_seconds() <= max_seconds:\n",
    "            urllist.append(baseurl + d + filelist[np.argmin(diff)])\n",
    "            files.append(filelist[np.argmin(diff)])\n",
    "    for url in urllist:\n",
    "        print(url)\n",
    "        #os.system('wget ' + url)\n",
    "    return np.array(files)"
   ]
  },
  {
   "cell_type": "code",
   "execution_count": null,
   "id": "bd57900e",
   "metadata": {},
   "outputs": [],
   "source": [
    "custom_dt = dt.datetime.strptime(\"2018-01-01_00:00:00\", \"%Y-%m-%d_%H:%M:%S\")\n",
    "files = download_files(custom_dt)"
   ]
  },
  {
   "cell_type": "code",
   "execution_count": 11,
   "id": "936d6b2b",
   "metadata": {},
   "outputs": [
    {
     "data": {
      "text/plain": [
       "[Empty DataFrame\n",
       " Columns: [Object, Folder, Last Modified, Timestamp, Size]\n",
       " Index: []]"
      ]
     },
     "execution_count": 11,
     "metadata": {},
     "output_type": "execute_result"
    }
   ],
   "source": [
    "baseurl = 'https://noaa-mrms-pds.s3.amazonaws.com/index.html#CONUS/MergedReflectivityAtLowestAltitude_00.50/'\n",
    "page1 = pd.read_html(baseurl)\n",
    "page1"
   ]
  },
  {
   "cell_type": "code",
   "execution_count": 12,
   "id": "fcc529ae",
   "metadata": {},
   "outputs": [
    {
     "ename": "ModuleNotFoundError",
     "evalue": "No module named 'boto3'",
     "output_type": "error",
     "traceback": [
      "\u001b[0;31m---------------------------------------------------------------------------\u001b[0m",
      "\u001b[0;31mModuleNotFoundError\u001b[0m                       Traceback (most recent call last)",
      "Cell \u001b[0;32mIn[12], line 1\u001b[0m\n\u001b[0;32m----> 1\u001b[0m \u001b[38;5;28;01mimport\u001b[39;00m \u001b[38;5;21;01mboto3\u001b[39;00m\n",
      "\u001b[0;31mModuleNotFoundError\u001b[0m: No module named 'boto3'"
     ]
    }
   ],
   "source": [
    "import boto3"
   ]
  },
  {
   "cell_type": "code",
   "execution_count": null,
   "id": "26cf7bba",
   "metadata": {},
   "outputs": [],
   "source": []
  }
 ],
 "metadata": {
  "kernelspec": {
   "display_name": "Python 3 (ipykernel)",
   "language": "python",
   "name": "python3"
  }
 },
 "nbformat": 4,
 "nbformat_minor": 5
}
